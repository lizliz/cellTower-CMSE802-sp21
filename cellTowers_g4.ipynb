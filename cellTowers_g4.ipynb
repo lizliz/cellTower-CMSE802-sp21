{
 "cells": [
  {
   "cell_type": "code",
   "execution_count": null,
   "metadata": {
    "collapsed": true
   },
   "outputs": [],
   "source": [
    "import numpy as np\n",
    "import matplotlib.pyplot as plt\n",
    "%matplotlib inline\n",
    "from random import randint\n",
    "\n",
    "def mapplot(locations, colors):\n",
    "    xs = locations[:,0]\n",
    "    ys = locations[:,1]\n",
    "    X = xs\n",
    "    Y = ys\n",
    "    labels = range(1,len(X)+1)\n",
    "\n",
    "    fig = plt.figure()\n",
    "    ax = fig.add_subplot(111)\n",
    "    for x,y,lab in zip(X,Y,labels):\n",
    "            ax.scatter(x,y,label=lab)\n",
    "\n",
    "    colormap = plt.cm.gist_ncar #nipy_spectral, Set1,Paired  \n",
    "    colorst = [colormap(i) for i in np.linspace(0, 0.9,len(ax.collections))]       \n",
    "    for t,j1 in enumerate(ax.collections):\n",
    "        j1.set_color(colorst[t])\n",
    "    ax.legend(fontsize='small')"
   ]
  }
 ],
 "metadata": {
  "kernelspec": {
   "display_name": "Python 3",
   "language": "python",
   "name": "python3"
  },
  "language_info": {
   "codemirror_mode": {
    "name": "ipython",
    "version": 3
   },
   "file_extension": ".py",
   "mimetype": "text/x-python",
   "name": "python",
   "nbconvert_exporter": "python",
   "pygments_lexer": "ipython3",
   "version": "3.6.3"
  }
 },
 "nbformat": 4,
 "nbformat_minor": 2
}
